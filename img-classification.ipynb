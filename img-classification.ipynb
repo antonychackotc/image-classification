{
 "cells": [
  {
   "cell_type": "code",
   "execution_count": 87,
   "id": "7a3abc8a",
   "metadata": {},
   "outputs": [],
   "source": [
    "import glob\n",
    "from PIL import Image"
   ]
  },
  {
   "cell_type": "markdown",
   "id": "f8d1d8fe",
   "metadata": {},
   "source": [
    "Data Collection"
   ]
  },
  {
   "cell_type": "code",
   "execution_count": 88,
   "id": "ee86c60c",
   "metadata": {},
   "outputs": [],
   "source": [
    "airplane = glob.glob(\"airplane/*png\")\n",
    "automobile = glob.glob(\"automobile/*png\")\n",
    "bird = glob.glob(\"bird/*png\")   \n",
    "cat = glob.glob(\"cat/*png\")\n",
    "deer = glob.glob(\"deer/*png\")\n",
    "dog = glob.glob(\"dog/*png\")\n",
    "frog = glob.glob(\"frog/*png\")\n",
    "horse = glob.glob(\"horse/*png\")\n",
    "ship = glob.glob(\"ship/*png\")\n",
    "truck = glob.glob(\"truck/*png\")"
   ]
  },
  {
   "cell_type": "code",
   "execution_count": 89,
   "id": "9ed8e4f3",
   "metadata": {},
   "outputs": [
    {
     "name": "stdout",
     "output_type": "stream",
     "text": [
      "5000\n",
      "5000\n",
      "5000\n",
      "5000\n",
      "5000\n",
      "5000\n",
      "5000\n",
      "5000\n",
      "5000\n",
      "5000\n"
     ]
    }
   ],
   "source": [
    "print(len(airplane))\n",
    "print(len(automobile))\n",
    "print(len(bird))\n",
    "print(len(cat))\n",
    "print(len(deer))\n",
    "print(len(dog))\n",
    "print(len(frog))\n",
    "print(len(horse))\n",
    "print(len(ship))\n",
    "print(len(truck))"
   ]
  },
  {
   "cell_type": "code",
   "execution_count": 37,
   "id": "2501a1b0",
   "metadata": {},
   "outputs": [],
   "source": [
    "######################################################################################"
   ]
  },
  {
   "cell_type": "markdown",
   "id": "8aaf8e2c",
   "metadata": {},
   "source": [
    "Data Cleaning"
   ]
  },
  {
   "cell_type": "code",
   "execution_count": 90,
   "id": "2f699cb5",
   "metadata": {},
   "outputs": [],
   "source": [
    "\n",
    "img = Image.open(airplane[2])"
   ]
  },
  {
   "cell_type": "code",
   "execution_count": 91,
   "id": "4955e33f",
   "metadata": {},
   "outputs": [
    {
     "data": {
      "image/jpeg": "[encoded data removed]",
      "image/png": "[encoded data removed]",
      "text/plain": [
       "<PIL.PngImagePlugin.PngImageFile image mode=RGB size=32x32>"
      ]
     },
     "execution_count": 91,
     "metadata": {},
     "output_type": "execute_result"
    }
   ],
   "source": [
    "img"
   ]
  },
  {
   "cell_type": "markdown",
   "id": "db602c5e",
   "metadata": {},
   "source": [
    "Converted to Grey Scale RGB has 3 filters but Grey Scale has 1 filter"
   ]
  },
  {
   "cell_type": "code",
   "execution_count": 92,
   "id": "bfde8624",
   "metadata": {},
   "outputs": [],
   "source": [
    "img = img.convert('L')"
   ]
  },
  {
   "cell_type": "code",
   "execution_count": 93,
   "id": "1c8db547",
   "metadata": {},
   "outputs": [
    {
     "data": {
      "image/jpeg": "[encoded data removed]",
      "image/png": "[encoded data removed]",
      "text/plain": [
       "<PIL.Image.Image image mode=L size=32x32>"
      ]
     },
     "execution_count": 93,
     "metadata": {},
     "output_type": "execute_result"
    }
   ],
   "source": [
    "img"
   ]
  },
  {
   "cell_type": "markdown",
   "id": "04c111f5",
   "metadata": {},
   "source": [
    "convert greay scale to array"
   ]
  },
  {
   "cell_type": "code",
   "execution_count": 94,
   "id": "ca39e18c",
   "metadata": {},
   "outputs": [],
   "source": [
    "import numpy as np"
   ]
  },
  {
   "cell_type": "code",
   "execution_count": 95,
   "id": "d8392e9b",
   "metadata": {},
   "outputs": [],
   "source": [
    "pixels = np.array(img)"
   ]
  },
  {
   "cell_type": "code",
   "execution_count": 96,
   "id": "f7c3f539",
   "metadata": {},
   "outputs": [
    {
     "data": {
      "text/plain": [
       "numpy.ndarray"
      ]
     },
     "execution_count": 96,
     "metadata": {},
     "output_type": "execute_result"
    }
   ],
   "source": [
    "type(pixels)"
   ]
  },
  {
   "cell_type": "code",
   "execution_count": 97,
   "id": "02f004de",
   "metadata": {},
   "outputs": [
    {
     "data": {
      "text/plain": [
       "(32, 32)"
      ]
     },
     "execution_count": 97,
     "metadata": {},
     "output_type": "execute_result"
    }
   ],
   "source": [
    "pixels.shape"
   ]
  },
  {
   "cell_type": "code",
   "execution_count": 98,
   "id": "cf16038c",
   "metadata": {},
   "outputs": [
    {
     "data": {
      "text/plain": [
       "array([[ 49,  50,  51, ...,  62,  61,  61],\n",
       "       [ 49,  50,  52, ...,  64,  63,  62],\n",
       "       [ 52,  53,  54, ...,  67,  66,  65],\n",
       "       ...,\n",
       "       [179, 180, 176, ..., 198, 186, 181],\n",
       "       [176, 184, 173, ..., 170, 165, 158],\n",
       "       [164, 168, 168, ..., 154, 152, 151]], dtype=uint8)"
      ]
     },
     "execution_count": 98,
     "metadata": {},
     "output_type": "execute_result"
    }
   ],
   "source": [
    "pixels"
   ]
  },
  {
   "cell_type": "markdown",
   "id": "95412142",
   "metadata": {},
   "source": [
    "darker area shows low value and lighter area shows higher values"
   ]
  },
  {
   "cell_type": "code",
   "execution_count": 46,
   "id": "a003fc60",
   "metadata": {},
   "outputs": [],
   "source": [
    "#########################################################################################"
   ]
  },
  {
   "cell_type": "markdown",
   "id": "a06c9ae4",
   "metadata": {},
   "source": [
    "Classification Models"
   ]
  },
  {
   "cell_type": "code",
   "execution_count": 99,
   "id": "f32d202c",
   "metadata": {},
   "outputs": [],
   "source": [
    "data = []\n",
    "labels = []"
   ]
  },
  {
   "cell_type": "markdown",
   "id": "14cea543",
   "metadata": {},
   "source": [
    "Need to flatten to array for 3d to 1d convert for model training"
   ]
  },
  {
   "cell_type": "code",
   "execution_count": 100,
   "id": "5804844a",
   "metadata": {},
   "outputs": [],
   "source": [
    "# airplane images\n",
    "for img_path in airplane:\n",
    "    img = Image.open(img_path).convert('L')\n",
    "    img = img.resize((32, 32))  # Resize for consistency, if needed\n",
    "    pixels = np.array(img).flatten()\n",
    "    data.append(pixels)\n",
    "    labels.append(0)  # Label for airplane class\n",
    "\n"
   ]
  },
  {
   "cell_type": "code",
   "execution_count": 101,
   "id": "93d69d4a",
   "metadata": {},
   "outputs": [],
   "source": [
    "#automobile images\n",
    "for img_path in automobile:\n",
    "    img = Image.open(img_path).convert('L')\n",
    "    img = img.resize((32, 32))  # Resize for consistency, if needed\n",
    "    pixels = np.array(img).flatten()\n",
    "    data.append(pixels)\n",
    "    labels.append(1)  # Label for automobile class"
   ]
  },
  {
   "cell_type": "code",
   "execution_count": 102,
   "id": "844eef87",
   "metadata": {},
   "outputs": [],
   "source": [
    "#bird images\n",
    "for img_path in bird:\n",
    "    img = Image.open(img_path).convert('L')\n",
    "    img = img.resize((32, 32))  # Resize for consistency, if needed\n",
    "    pixels = np.array(img).flatten()\n",
    "    data.append(pixels)\n",
    "    labels.append(2)  # Label for bird class"
   ]
  },
  {
   "cell_type": "code",
   "execution_count": 103,
   "id": "fa4edb51",
   "metadata": {},
   "outputs": [],
   "source": [
    "#cat images\n",
    "for img_path in cat:\n",
    "    img = Image.open(img_path).convert('L')\n",
    "    img = img.resize((32, 32))  # Resize for consistency, if needed\n",
    "    pixels = np.array(img).flatten()\n",
    "    data.append(pixels)\n",
    "    labels.append(3)  # Label for cat class"
   ]
  },
  {
   "cell_type": "code",
   "execution_count": 104,
   "id": "7ce21e8e",
   "metadata": {},
   "outputs": [],
   "source": [
    "#deer images\n",
    "for img_path in deer:\n",
    "    img = Image.open(img_path).convert('L')\n",
    "    img = img.resize((32, 32))  # Resize for consistency, if needed\n",
    "    pixels = np.array(img).flatten()\n",
    "    data.append(pixels)\n",
    "    labels.append(4)  # Label for deer class"
   ]
  },
  {
   "cell_type": "code",
   "execution_count": 105,
   "id": "770bfc57",
   "metadata": {},
   "outputs": [],
   "source": [
    "#dog images\n",
    "for img_path in dog:\n",
    "    img = Image.open(img_path).convert('L')\n",
    "    img = img.resize((32, 32))  # Resize for consistency, if needed\n",
    "    pixels = np.array(img).flatten()\n",
    "    data.append(pixels)\n",
    "    labels.append(5)  # Label for dog class"
   ]
  },
  {
   "cell_type": "code",
   "execution_count": 106,
   "id": "8b0daa3d",
   "metadata": {},
   "outputs": [],
   "source": [
    "#frog images\n",
    "for img_path in frog:\n",
    "    img = Image.open(img_path).convert('L')\n",
    "    img = img.resize((32, 32))  # Resize for consistency, if needed\n",
    "    pixels = np.array(img).flatten()\n",
    "    data.append(pixels)\n",
    "    labels.append(6)  # Label for frog class"
   ]
  },
  {
   "cell_type": "code",
   "execution_count": 107,
   "id": "396afc3e",
   "metadata": {},
   "outputs": [],
   "source": [
    "#horse images\n",
    "for img_path in horse:\n",
    "    img = Image.open(img_path).convert('L')\n",
    "    img = img.resize((32, 32))  # Resize for consistency, if needed\n",
    "    pixels = np.array(img).flatten()\n",
    "    data.append(pixels)\n",
    "    labels.append(7)  # Label for horse class"
   ]
  },
  {
   "cell_type": "code",
   "execution_count": 108,
   "id": "21a88fab",
   "metadata": {},
   "outputs": [],
   "source": [
    "#ship images\n",
    "for img_path in ship:\n",
    "    img = Image.open(img_path).convert('L')\n",
    "    img = img.resize((32, 32))  # Resize for consistency, if needed\n",
    "    pixels = np.array(img).flatten()\n",
    "    data.append(pixels)\n",
    "    labels.append(8)  # Label for ship class"
   ]
  },
  {
   "cell_type": "code",
   "execution_count": 109,
   "id": "a9df471d",
   "metadata": {},
   "outputs": [],
   "source": [
    "#truck images\n",
    "for img_path in truck:\n",
    "    img = Image.open(img_path).convert('L')\n",
    "    img = img.resize((32, 32))  # Resize for consistency, if needed\n",
    "    pixels = np.array(img).flatten()\n",
    "    data.append(pixels)\n",
    "    labels.append(9)  # Label for truck class"
   ]
  },
  {
   "cell_type": "code",
   "execution_count": 58,
   "id": "00a5fc11",
   "metadata": {},
   "outputs": [],
   "source": [
    "#################################################################################"
   ]
  },
  {
   "cell_type": "code",
   "execution_count": 59,
   "id": "c27c2688",
   "metadata": {},
   "outputs": [
    {
     "data": {
      "text/plain": [
       "(50000, 50000)"
      ]
     },
     "execution_count": 59,
     "metadata": {},
     "output_type": "execute_result"
    }
   ],
   "source": [
    "len(data), len(labels)"
   ]
  },
  {
   "cell_type": "markdown",
   "id": "ff02e157",
   "metadata": {},
   "source": [
    "Prepare for Model Training"
   ]
  },
  {
   "cell_type": "code",
   "execution_count": 110,
   "id": "41501138",
   "metadata": {},
   "outputs": [],
   "source": [
    "x = np.array(data)\n",
    "y = np.array(labels)"
   ]
  },
  {
   "cell_type": "markdown",
   "id": "2d9491b1",
   "metadata": {},
   "source": [
    "Scaling"
   ]
  },
  {
   "cell_type": "markdown",
   "id": "83602a32",
   "metadata": {},
   "source": [
    "## Visualize Pixel Value Distribution Before Scaling\n",
    "Let's plot a histogram to see the distribution of pixel values before applying any scaling. This helps understand the need for scaling."
   ]
  },
  {
   "cell_type": "code",
   "execution_count": 61,
   "id": "713895ea",
   "metadata": {},
   "outputs": [
    {
     "data": {
      "image/png": "[encoded data removed]",
      "text/plain": [
       "<Figure size 800x400 with 1 Axes>"
      ]
     },
     "metadata": {},
     "output_type": "display_data"
    }
   ],
   "source": [
    "import matplotlib.pyplot as plt\n",
    "\n",
    "# Concatenate all pixel values into a single array for visualization\n",
    "all_pixels = np.concatenate(data)\n",
    "plt.figure(figsize=(8,4))\n",
    "plt.hist(all_pixels, bins=50, color='skyblue', edgecolor='black')\n",
    "plt.title('Pixel Value Distribution Before Scaling')\n",
    "plt.xlabel('Pixel Value')\n",
    "plt.ylabel('Frequency')\n",
    "plt.show()"
   ]
  },
  {
   "cell_type": "markdown",
   "id": "220cc22f",
   "metadata": {},
   "source": [
    "### Why MinMaxScaler for Image Classification in ML?\n",
    "MinMaxScaler is commonly used for image data in machine learning because it scales pixel values (usually 0-255) to a fixed range (typically 0-1). This helps many ML algorithms (like SVM, k-NN, logistic regression) perform better, as features are on the same scale and gradients are more stable."
   ]
  },
  {
   "cell_type": "code",
   "execution_count": 65,
   "id": "0fd28195",
   "metadata": {},
   "outputs": [],
   "source": [
    "################################################################################"
   ]
  },
  {
   "cell_type": "markdown",
   "id": "5bb642bd",
   "metadata": {},
   "source": [
    "### What Happens After Using StandardScaler?\n",
    "StandardScaler standardizes features by removing the mean and scaling to unit variance. After scaling, the pixel values will have a mean close to 0 and a standard deviation close to 1. The distribution will be centered around 0, but the shape will remain similar to the original."
   ]
  },
  {
   "cell_type": "code",
   "execution_count": 64,
   "id": "e8d53147",
   "metadata": {},
   "outputs": [
    {
     "data": {
      "image/png": "[encoded data removed]",
      "text/plain": [
       "<Figure size 800x400 with 1 Axes>"
      ]
     },
     "metadata": {},
     "output_type": "display_data"
    }
   ],
   "source": [
    "from sklearn.preprocessing import StandardScaler\n",
    "\n",
    "scaler_std = StandardScaler()\n",
    "x_std_scaled = scaler_std.fit_transform(x)\n",
    "\n",
    "# Visualize pixel value distribution after StandardScaler\n",
    "all_pixels_std_scaled = x_std_scaled.flatten()\n",
    "plt.figure(figsize=(8,4))\n",
    "plt.hist(all_pixels_std_scaled, bins=50, color='orange', edgecolor='black')\n",
    "plt.title('Pixel Value Distribution After Standard Scaling')\n",
    "plt.xlabel('Pixel Value (Standardized)')\n",
    "plt.ylabel('Frequency')\n",
    "plt.show()"
   ]
  },
  {
   "cell_type": "markdown",
   "id": "167cb4f6",
   "metadata": {},
   "source": [
    "Save scaling model"
   ]
  },
  {
   "cell_type": "code",
   "execution_count": 66,
   "id": "c2820f40",
   "metadata": {},
   "outputs": [
    {
     "data": {
      "text/plain": [
       "['standard_scaler_model.pkl']"
      ]
     },
     "execution_count": 66,
     "metadata": {},
     "output_type": "execute_result"
    }
   ],
   "source": [
    "import joblib\n",
    "\n",
    "# Save the fitted scaler to a file\n",
    "joblib.dump(scaler_std, 'standard_scaler_model.pkl')"
   ]
  },
  {
   "cell_type": "code",
   "execution_count": 67,
   "id": "699fd18f",
   "metadata": {},
   "outputs": [],
   "source": [
    "#########################################################################################"
   ]
  },
  {
   "cell_type": "markdown",
   "id": "0e9a4990",
   "metadata": {},
   "source": [
    "Machine Learning"
   ]
  },
  {
   "cell_type": "markdown",
   "id": "720be9c9",
   "metadata": {},
   "source": [
    "i) Train Test Split"
   ]
  },
  {
   "cell_type": "code",
   "execution_count": 68,
   "id": "3d1fb2be",
   "metadata": {},
   "outputs": [
    {
     "name": "stdout",
     "output_type": "stream",
     "text": [
      "Train shape: (40000, 1024) (40000,)\n",
      "Test shape: (10000, 1024) (10000,)\n"
     ]
    }
   ],
   "source": [
    "from sklearn.model_selection import train_test_split\n",
    "\n",
    "# Use standardized data for ML\n",
    "X_train, X_test, y_train, y_test = train_test_split(x_std_scaled, y, test_size=0.2, random_state=42)\n",
    "\n",
    "print('Train shape:', X_train.shape, y_train.shape)\n",
    "print('Test shape:', X_test.shape, y_test.shape)"
   ]
  },
  {
   "cell_type": "markdown",
   "id": "442bfe41",
   "metadata": {},
   "source": [
    "1024 mean by 32 x 32 pixel"
   ]
  },
  {
   "cell_type": "markdown",
   "id": "bf075a9d",
   "metadata": {},
   "source": [
    "This is multi class classification model am selecting Random Forest Ensamble method is type of multiple decision tress, Its Manage Noise  Data"
   ]
  },
  {
   "cell_type": "code",
   "execution_count": 69,
   "id": "03884523",
   "metadata": {},
   "outputs": [],
   "source": [
    "# Train a Random Forest Classifier\n",
    "from sklearn.ensemble import RandomForestClassifier\n",
    "from sklearn.metrics import accuracy_score, classification_report\n",
    "\n",
    "# Initialize and train the model\n",
    "rf_clf = RandomForestClassifier(n_estimators=100, random_state=42)\n",
    "rf_clf.fit(X_train, y_train)\n",
    "\n",
    "# Predict on the test set\n",
    "y_pred = rf_clf.predict(X_test)"
   ]
  },
  {
   "cell_type": "markdown",
   "id": "b31e9782",
   "metadata": {},
   "source": [
    "Evaluation the Model"
   ]
  },
  {
   "cell_type": "code",
   "execution_count": 70,
   "id": "7abcd1ce",
   "metadata": {},
   "outputs": [
    {
     "name": "stdout",
     "output_type": "stream",
     "text": [
      "Random Forest Test Accuracy: 0.3977\n",
      "Classification Report:\n",
      "              precision    recall  f1-score   support\n",
      "\n",
      "           1       0.43      0.39      0.41      1009\n",
      "           2       0.44      0.46      0.45      1034\n",
      "           3       0.35      0.34      0.34       985\n",
      "           4       0.31      0.24      0.27      1008\n",
      "           5       0.31      0.35      0.33       986\n",
      "           6       0.39      0.32      0.35      1030\n",
      "           7       0.40      0.42      0.41      1021\n",
      "           8       0.43      0.41      0.42       977\n",
      "           9       0.46      0.54      0.50       955\n",
      "          10       0.43      0.51      0.47       995\n",
      "\n",
      "    accuracy                           0.40     10000\n",
      "   macro avg       0.39      0.40      0.39     10000\n",
      "weighted avg       0.39      0.40      0.39     10000\n",
      "\n"
     ]
    }
   ],
   "source": [
    "# Evaluate the model\n",
    "accuracy = accuracy_score(y_test, y_pred)\n",
    "print(f'Random Forest Test Accuracy: {accuracy:.4f}')\n",
    "print('Classification Report:')\n",
    "print(classification_report(y_test, y_pred))"
   ]
  },
  {
   "cell_type": "code",
   "execution_count": 73,
   "id": "814317da",
   "metadata": {},
   "outputs": [],
   "source": [
    "#############################################################################"
   ]
  },
  {
   "cell_type": "markdown",
   "id": "6e193366",
   "metadata": {},
   "source": [
    "Almost Class is Balanced"
   ]
  },
  {
   "cell_type": "markdown",
   "id": "65b418e6",
   "metadata": {},
   "source": [
    "############################################################################"
   ]
  },
  {
   "cell_type": "markdown",
   "id": "f1a18426",
   "metadata": {},
   "source": [
    "Try Hyperparameter tuning"
   ]
  },
  {
   "cell_type": "markdown",
   "id": "7b034324",
   "metadata": {},
   "source": [
    "Using Grid Search CV For Random Forest and Cross Validation For 3 folds"
   ]
  },
  {
   "cell_type": "markdown",
   "id": "5bc133d6",
   "metadata": {},
   "source": [
    "## Hyperparameter Tuning with GridSearchCV\n",
    "Let's use GridSearchCV to find the best hyperparameters for the Random Forest model."
   ]
  },
  {
   "cell_type": "code",
   "execution_count": 75,
   "id": "c75d9a69",
   "metadata": {},
   "outputs": [
    {
     "name": "stdout",
     "output_type": "stream",
     "text": [
      "Fitting 3 folds for each of 108 candidates, totalling 324 fits\n",
      "Best Parameters: {'max_depth': 30, 'min_samples_leaf': 2, 'min_samples_split': 5, 'n_estimators': 200}\n",
      "Best Cross-Validation Accuracy: 0.41192486989315874\n",
      "Test Accuracy (GridSearchCV): 0.4025\n",
      "Classification Report (GridSearchCV):\n",
      "              precision    recall  f1-score   support\n",
      "\n",
      "           1       0.45      0.38      0.41      1009\n",
      "           2       0.45      0.45      0.45      1034\n",
      "           3       0.36      0.33      0.34       985\n",
      "           4       0.33      0.23      0.27      1008\n",
      "           5       0.32      0.35      0.33       986\n",
      "           6       0.38      0.32      0.35      1030\n",
      "           7       0.40      0.45      0.42      1021\n",
      "           8       0.44      0.44      0.44       977\n",
      "           9       0.44      0.55      0.49       955\n",
      "          10       0.43      0.54      0.48       995\n",
      "\n",
      "    accuracy                           0.40     10000\n",
      "   macro avg       0.40      0.40      0.40     10000\n",
      "weighted avg       0.40      0.40      0.40     10000\n",
      "\n"
     ]
    }
   ],
   "source": [
    " from sklearn.model_selection import GridSearchCV\n",
    "from sklearn.ensemble import RandomForestClassifier\n",
    "\n",
    "# Define the parameter grid\n",
    "grid_params = {\n",
    "    'n_estimators': [50, 100, 200],\n",
    "    'max_depth': [None, 10, 20, 30],\n",
    "    'min_samples_split': [2, 5, 10],\n",
    "    'min_samples_leaf': [1, 2, 4]\n",
    "}\n",
    "\n",
    "rf = RandomForestClassifier(random_state=42)\n",
    "grid_search = GridSearchCV(rf, grid_params, cv=3, n_jobs=-1, verbose=2, scoring='accuracy')\n",
    "grid_search.fit(X_train, y_train)\n",
    "\n",
    "print('Best Parameters:', grid_search.best_params_)\n",
    "print('Best Cross-Validation Accuracy:', grid_search.best_score_)\n",
    "\n",
    "# Evaluate on test set with best estimator\n",
    "y_pred_gs = grid_search.best_estimator_.predict(X_test)\n",
    "from sklearn.metrics import accuracy_score, classification_report\n",
    "print('Test Accuracy (GridSearchCV):', accuracy_score(y_test, y_pred_gs))\n",
    "print('Classification Report (GridSearchCV):')\n",
    "print(classification_report(y_test, y_pred_gs))"
   ]
  },
  {
   "cell_type": "markdown",
   "id": "80518381",
   "metadata": {},
   "source": [
    "No Major Changes happens after Using Hyperparameter Tuning"
   ]
  },
  {
   "cell_type": "code",
   "execution_count": 76,
   "id": "a2e864ed",
   "metadata": {},
   "outputs": [],
   "source": [
    "############################################################################"
   ]
  },
  {
   "cell_type": "markdown",
   "id": "c640ad91",
   "metadata": {},
   "source": [
    "So Now Try Another Ensemble Method like XG Boosting"
   ]
  },
  {
   "cell_type": "markdown",
   "id": "164dc52a",
   "metadata": {},
   "source": [
    "## XGBoost Classifier\n",
    "Let's try another ensemble method: XGBoost, which is often effective for structured/tabular data."
   ]
  },
  {
   "cell_type": "markdown",
   "id": "de6c6bb9",
   "metadata": {},
   "source": [
    "But No Changes"
   ]
  },
  {
   "cell_type": "code",
   "execution_count": 79,
   "id": "d038b8c1",
   "metadata": {},
   "outputs": [],
   "source": [
    "#################################################################################"
   ]
  },
  {
   "cell_type": "markdown",
   "id": "b0d9092d",
   "metadata": {},
   "source": [
    "Now Try Deep Learning Technique"
   ]
  },
  {
   "cell_type": "markdown",
   "id": "30e2d66a",
   "metadata": {},
   "source": [
    "Multiconnect Neural Network"
   ]
  },
  {
   "cell_type": "markdown",
   "id": "5659ef00",
   "metadata": {},
   "source": [
    "CNN - Convolution Neural Network"
   ]
  },
  {
   "cell_type": "markdown",
   "id": "ac423762",
   "metadata": {},
   "source": [
    "Working of Convolution Layer + Relu , Pooling Layer , Fully Flatten Layer ( Convert Multi Dimension to 1 Dimension)"
   ]
  },
  {
   "cell_type": "markdown",
   "id": "5bf7ebc1",
   "metadata": {},
   "source": [
    "Convolution Layers take \n",
    "\n",
    "1) Loopy Pattern\n",
    "2) Vertical Line\n",
    "3) Diagonal Line\n",
    "\n",
    "More Hidden Layers Can Analyse Image Deeply"
   ]
  },
  {
   "cell_type": "code",
   "execution_count": 80,
   "id": "9862daa2",
   "metadata": {},
   "outputs": [],
   "source": [
    "#################################################################################"
   ]
  },
  {
   "cell_type": "markdown",
   "id": "977718cc",
   "metadata": {},
   "source": [
    "cnn - convolution neural network"
   ]
  },
  {
   "cell_type": "markdown",
   "id": "1e8fdec4",
   "metadata": {},
   "source": [
    "# Step-by-Step CNN with PyTorch\n",
    "This section demonstrates how to build, train, and evaluate a simple Convolutional Neural Network (CNN) for image classification using PyTorch."
   ]
  },
  {
   "cell_type": "code",
   "execution_count": 111,
   "id": "d851cbef",
   "metadata": {},
   "outputs": [],
   "source": [
    "# 1. Import Required Libraries\n",
    "import torch\n",
    "import torch.nn as nn\n",
    "import torch.optim as optim\n",
    "from torch.utils.data import TensorDataset, DataLoader\n",
    "from sklearn.model_selection import train_test_split"
   ]
  },
  {
   "cell_type": "code",
   "execution_count": 112,
   "id": "2e4f4cd8",
   "metadata": {},
   "outputs": [],
   "source": [
    "# 2. Prepare Data for PyTorch (reshape and convert to tensors)\n",
    "# Reshape to (num_samples, 1, 32, 32) for grayscale images\n",
    "X = np.array(data).reshape(-1, 1, 32, 32).astype(np.float32)\n",
    "y = np.array(labels).astype(np.int64)\n",
    "\n",
    "# Train-test split\n",
    "X_train, X_test, y_train, y_test = train_test_split(X, y, test_size=0.2, random_state=42)\n",
    "\n",
    "# Convert to PyTorch tensors\n",
    "torch_X_train = torch.tensor(X_train)\n",
    "torch_y_train = torch.tensor(y_train)\n",
    "torch_X_test = torch.tensor(X_test)\n",
    "torch_y_test = torch.tensor(y_test)\n",
    "\n",
    "# Create DataLoader\n",
    "train_dataset = TensorDataset(torch_X_train, torch_y_train)\n",
    "test_dataset = TensorDataset(torch_X_test, torch_y_test)\n",
    "train_loader = DataLoader(train_dataset, batch_size=64, shuffle=True)\n",
    "test_loader = DataLoader(test_dataset, batch_size=64, shuffle=False)"
   ]
  },
  {
   "cell_type": "markdown",
   "id": "245c9944",
   "metadata": {},
   "source": [
    "Explanation:\n",
    "\n",
    "X = np.array(data).reshape(-1, 1, 32, 32).astype(np.float32)\n",
    "\n",
    "Converts your list of image data (data) into a NumPy array.\n",
    "\n",
    ".reshape(-1, 1, 32, 32) changes the shape to (number of samples, 1, 32, 32):\n",
    "\n",
    "-1 lets NumPy automatically determine the number of samples.\n",
    "\n",
    "1 is the number of channels (for grayscale images).\n",
    "\n",
    "32, 32 is the image height and width.\n",
    "\n",
    ".astype(np.float32) ensures the data type is 32-bit float, which is required for most deep learning frameworks like PyTorch.\n",
    "\n",
    "y = np.array(labels).astype(np.int64)\n",
    "\n",
    "Converts your list of labels (labels) into a NumPy array.\n",
    "\n",
    ".astype(np.int64) ensures the labels are 64-bit integers, which is the standard type for class labels in PyTorch.\n",
    "\n",
    "Summary:\n",
    "\n",
    "These lines prepare your image data and labels in the correct format and data type for training a convolutional neural network (CNN) using PyTorch."
   ]
  },
  {
   "cell_type": "markdown",
   "id": "aeb0a760",
   "metadata": {},
   "source": [
    "#########################################################################################"
   ]
  },
  {
   "cell_type": "markdown",
   "id": "2bd75a3e",
   "metadata": {},
   "source": [
    "kernel_size=3 means each filter is a 3x3 window."
   ]
  },
  {
   "cell_type": "markdown",
   "id": "47409949",
   "metadata": {},
   "source": [
    "Kernel size = size of the filter (e.g., 3x3 pixels)"
   ]
  },
  {
   "cell_type": "markdown",
   "id": "7bf26600",
   "metadata": {},
   "source": [
    "The number of output channels (e.g., 16) means you get 16 feature maps, one for each filter."
   ]
  },
  {
   "cell_type": "markdown",
   "id": "792f2e25",
   "metadata": {},
   "source": [
    "##########################################################################################"
   ]
  },
  {
   "cell_type": "code",
   "execution_count": 120,
   "id": "5441aecb",
   "metadata": {},
   "outputs": [],
   "source": [
    "# 3. Define the CNN Model\n",
    "class SimpleCNN(nn.Module):\n",
    "    def __init__(self):\n",
    "        super(SimpleCNN, self).__init__()\n",
    "        self.conv1 = nn.Conv2d(1, 16, kernel_size=3, padding=1)\n",
    "        self.bn1 = nn.BatchNorm2d(16)\n",
    "        self.pool = nn.MaxPool2d(2, 2)\n",
    "        self.conv2 = nn.Conv2d(16, 32, kernel_size=3, padding=1)\n",
    "        self.bn2 = nn.BatchNorm2d(32)\n",
    "        self.fc1 = nn.Linear(32 * 8 * 8, 128)\n",
    "        self.fc2 = nn.Linear(128, 10)  # 10 classes\n",
    "        self.relu = nn.ReLU()\n",
    "        self.dropout = nn.Dropout(0.25)\n",
    "    def forward(self, x):\n",
    "        x = self.relu(self.bn1(self.conv1(x)))\n",
    "        x = self.pool(x)\n",
    "        x = self.relu(self.bn2(self.conv2(x)))\n",
    "        x = self.pool(x)\n",
    "        x = x.view(-1, 32 * 8 * 8)\n",
    "        x = self.dropout(self.relu(self.fc1(x)))\n",
    "        x = self.fc2(x)\n",
    "        return x"
   ]
  },
  {
   "cell_type": "markdown",
   "id": "e5a40aa8",
   "metadata": {},
   "source": [
    "1. Batch normalization is a technique used in deep learning to make training faster and more stable. Here’s what it does:\n",
    "\n",
    "Normalizes the output of a layer (like a convolutional layer) so that the mean is close to 0 and the standard deviation is close to 1, for each mini-batch during training.\n",
    "\n",
    "Reduces internal covariate shift, which means it helps keep the distribution of activations more consistent as the network trains.\n",
    "\n",
    "Allows higher learning rates and can speed up convergence.\n",
    "\n",
    "Acts as a regularizer, sometimes reducing the need for dropout.\n",
    "\n",
    "In your CNN, batch normalization is applied after each convolutional layer. This helps the network learn better and can improve both training speed and final accuracy."
   ]
  },
  {
   "cell_type": "markdown",
   "id": "fb611c9e",
   "metadata": {},
   "source": [
    "#######################################################################################"
   ]
  },
  {
   "cell_type": "markdown",
   "id": "eb80821b",
   "metadata": {},
   "source": [
    "<VSCode.Cell language=\"markdown\">\n",
    "### Explanation: SimpleCNN Model Definition\n",
    "\n",
    "This code defines a simple Convolutional Neural Network (CNN) for image classification using PyTorch. Here’s what each part does:\n",
    "\n",
    "- `class SimpleCNN(nn.Module)`: Defines a new neural network class that inherits from PyTorch's base `nn.Module`.\n",
    "- `__init__`: The constructor sets up the layers:\n",
    "  - `self.conv1`: 2D convolutional layer with 1 input channel (grayscale), 16 output channels, 3x3 kernel, and padding=1.\n",
    "  - `self.bn1`: Batch normalization layer for the first convolutional layer.\n",
    "  - `self.pool`: Max pooling layer with 2x2 window, reduces spatial size by half.\n",
    "  - `self.conv2`: Second convolutional layer, takes 16 input channels, outputs 32, 3x3 kernel, padding=1.\n",
    "  - `self.bn2`: Batch normalization layer for the second convolutional layer.\n",
    "  - `self.fc1`: Fully connected (dense) layer, input size is 32*8*8 (after two poolings on 32x32 input), output size is 128.\n",
    "  - `self.fc2`: Output layer, 128 inputs to 10 outputs (for 10 classes).\n",
    "  - `self.relu`: ReLU activation function.\n",
    "  - `self.dropout`: Dropout layer for regularization (25% dropout rate).\n",
    "\n",
    "- `forward(self, x)`: Defines the forward pass (how data flows through the network):\n",
    "  1. Pass input through first conv layer, apply ReLU and batch normalization.\n",
    "  2. Apply max pooling.\n",
    "  3. Pass through second conv layer, apply ReLU and batch normalization.\n",
    "  4. Apply max pooling again.\n",
    "  5. Flatten the output to a vector.\n",
    "  6. Pass through first fully connected layer, apply ReLU and dropout.\n",
    "  7. Pass through output layer to get class scores.\n",
    "\n",
    "This architecture is suitable for small grayscale images (like 32x32) and is a common starting point for image classification tasks."
   ]
  },
  {
   "cell_type": "markdown",
   "id": "b2b2a90a",
   "metadata": {},
   "source": [
    "########################################################################################"
   ]
  },
  {
   "cell_type": "markdown",
   "id": "c33f75f3",
   "metadata": {},
   "source": [
    "** 2D convolutional layer with 1 input channel (grayscale), 16 output channels, 3x3 kernel, and padding=1.\n",
    "\n",
    "Yes, that's correct! In a 2D convolutional layer like nn.Conv2d(1, 16, kernel_size=3, padding=1), the 16 output channels mean the layer uses 16 different filters (also called kernels).\n",
    "\n",
    "Each filter learns to detect a different feature or pattern in the input image, such as:\n",
    "\n",
    "Loopy or circular shapes\n",
    "\n",
    "Vertical lines\n",
    "\n",
    "Horizontal lines\n",
    "\n",
    "Diagonal lines\n",
    "\n",
    "Edges, corners, or other textures\n",
    "\n",
    "After the convolution, you get 16 separate \"feature maps\" (one for each filter), which can be visualized as 16 different 2D arrays (or \"boxes\") showing where each filter detected its pattern in the image. These feature maps are then passed to the next layer for further processing.\n",
    "\n",
    "So, your understanding is correct: 16 output channels = 16 filters, each learning to detect different visual features!"
   ]
  },
  {
   "cell_type": "markdown",
   "id": "d503c059",
   "metadata": {},
   "source": [
    "#####################################################################"
   ]
  },
  {
   "cell_type": "code",
   "execution_count": 121,
   "id": "c2f01ca6",
   "metadata": {},
   "outputs": [],
   "source": [
    "# 4. Instantiate Model, Loss Function, and Optimizer\n",
    "model = SimpleCNN()\n",
    "criterion = nn.CrossEntropyLoss()\n",
    "optimizer = optim.Adam(model.parameters(), lr=0.001)"
   ]
  },
  {
   "cell_type": "markdown",
   "id": "cc6d5b55",
   "metadata": {},
   "source": [
    "### Training with Early Stopping\n",
    "This cell adds early stopping to the CNN training loop. Training will stop if the validation loss does not improve for a set number of epochs (patience)."
   ]
  },
  {
   "cell_type": "code",
   "execution_count": 122,
   "id": "7b84d3a2",
   "metadata": {},
   "outputs": [
    {
     "name": "stdout",
     "output_type": "stream",
     "text": [
      "Epoch 1/50, Train Loss: 1.5927, Val Loss: 1.2759\n",
      "Epoch 2/50, Train Loss: 1.2492, Val Loss: 1.1152\n",
      "Epoch 2/50, Train Loss: 1.2492, Val Loss: 1.1152\n",
      "Epoch 3/50, Train Loss: 1.1485, Val Loss: 1.0988\n",
      "Epoch 3/50, Train Loss: 1.1485, Val Loss: 1.0988\n",
      "Epoch 4/50, Train Loss: 1.0752, Val Loss: 1.1495\n",
      "Epoch 4/50, Train Loss: 1.0752, Val Loss: 1.1495\n",
      "Epoch 5/50, Train Loss: 1.0194, Val Loss: 1.0524\n",
      "Epoch 5/50, Train Loss: 1.0194, Val Loss: 1.0524\n",
      "Epoch 6/50, Train Loss: 0.9775, Val Loss: 1.0455\n",
      "Epoch 6/50, Train Loss: 0.9775, Val Loss: 1.0455\n",
      "Epoch 7/50, Train Loss: 0.9418, Val Loss: 1.0461\n",
      "Epoch 7/50, Train Loss: 0.9418, Val Loss: 1.0461\n",
      "Epoch 8/50, Train Loss: 0.9013, Val Loss: 0.9553\n",
      "Epoch 8/50, Train Loss: 0.9013, Val Loss: 0.9553\n",
      "Epoch 9/50, Train Loss: 0.8673, Val Loss: 0.9656\n",
      "Epoch 9/50, Train Loss: 0.8673, Val Loss: 0.9656\n",
      "Epoch 10/50, Train Loss: 0.8401, Val Loss: 1.0796\n",
      "Epoch 10/50, Train Loss: 0.8401, Val Loss: 1.0796\n",
      "Epoch 11/50, Train Loss: 0.8141, Val Loss: 0.9935\n",
      "Epoch 11/50, Train Loss: 0.8141, Val Loss: 0.9935\n",
      "Epoch 12/50, Train Loss: 0.7863, Val Loss: 1.0013\n",
      "Epoch 12/50, Train Loss: 0.7863, Val Loss: 1.0013\n",
      "Epoch 13/50, Train Loss: 0.7630, Val Loss: 0.9714\n",
      "Early stopping at epoch 13\n",
      "Epoch 13/50, Train Loss: 0.7630, Val Loss: 0.9714\n",
      "Early stopping at epoch 13\n"
     ]
    }
   ],
   "source": [
    "# 5. Train the CNN with Early Stopping\n",
    "num_epochs = 50\n",
    "patience = 5  # Number of epochs to wait for improvement\n",
    "best_val_loss = float('inf')\n",
    "patience_counter = 0\n",
    "\n",
    "# Split a validation set from the training data\n",
    "from torch.utils.data import random_split\n",
    "val_size = int(0.1 * len(train_dataset))\n",
    "train_size = len(train_dataset) - val_size\n",
    "train_subset, val_subset = random_split(train_dataset, [train_size, val_size])\n",
    "train_loader_es = DataLoader(train_subset, batch_size=64, shuffle=True)\n",
    "val_loader = DataLoader(val_subset, batch_size=64, shuffle=False)\n",
    "\n",
    "for epoch in range(num_epochs):\n",
    "    model.train()\n",
    "    running_loss = 0.0\n",
    "    for images, labels in train_loader_es:\n",
    "        optimizer.zero_grad()\n",
    "        outputs = model(images)\n",
    "        loss = criterion(outputs, labels)\n",
    "        loss.backward()\n",
    "        optimizer.step()\n",
    "        running_loss += loss.item() * images.size(0)\n",
    "    epoch_loss = running_loss / len(train_loader_es.dataset)\n",
    "\n",
    "    # Validation loss\n",
    "    model.eval()\n",
    "    val_loss = 0.0\n",
    "    with torch.no_grad():\n",
    "        for images, labels in val_loader:\n",
    "            outputs = model(images)\n",
    "            loss = criterion(outputs, labels)\n",
    "            val_loss += loss.item() * images.size(0)\n",
    "    val_loss /= len(val_loader.dataset)\n",
    "\n",
    "    print(f\"Epoch {epoch+1}/{num_epochs}, Train Loss: {epoch_loss:.4f}, Val Loss: {val_loss:.4f}\")\n",
    "\n",
    "    # Early stopping check\n",
    "    if val_loss < best_val_loss:\n",
    "        best_val_loss = val_loss\n",
    "        patience_counter = 0\n",
    "    else:\n",
    "        patience_counter += 1\n",
    "        if patience_counter >= patience:\n",
    "            print(f\"Early stopping at epoch {epoch+1}\")\n",
    "            break"
   ]
  },
  {
   "cell_type": "code",
   "execution_count": 123,
   "id": "a3bf3032",
   "metadata": {},
   "outputs": [
    {
     "name": "stdout",
     "output_type": "stream",
     "text": [
      "Test Accuracy: 0.6613\n"
     ]
    }
   ],
   "source": [
    "# 6. Evaluate the CNN\n",
    "model.eval()\n",
    "correct = 0\n",
    "total = 0\n",
    "with torch.no_grad():\n",
    "    for images, labels in test_loader:\n",
    "        outputs = model(images)\n",
    "        _, predicted = torch.max(outputs.data, 1)\n",
    "        total += labels.size(0)\n",
    "        correct += (predicted == labels).sum().item()\n",
    "accuracy = correct / total\n",
    "print(f\"Test Accuracy: {accuracy:.4f}\")"
   ]
  },
  {
   "cell_type": "markdown",
   "id": "e88c8735",
   "metadata": {},
   "source": [
    "###########################################################################"
   ]
  },
  {
   "cell_type": "markdown",
   "id": "7ef0e7e5",
   "metadata": {},
   "source": [
    "Little Bit Accuracy Increased after Using Batch Normalization"
   ]
  },
  {
   "cell_type": "markdown",
   "id": "f3f13c0b",
   "metadata": {},
   "source": [
    "##########################################################################################"
   ]
  },
  {
   "cell_type": "markdown",
   "id": "a92c1002",
   "metadata": {},
   "source": [
    "##How to Increase CNN Test Accuracy##\n",
    "\n",
    "\n",
    "1. Data Augmentation\n",
    "\n",
    "Add random transformations (rotation, flip, crop, etc.) to your training images to help the model generalize better.\n",
    "\n",
    "2. Increase Model Complexity\n",
    "\n",
    "Add more convolutional layers, increase the number of filters, or add more neurons to fully connected layers.\n",
    "\n",
    "3. Train for More Epochs\n",
    "\n",
    "If you are not overfitting, try increasing the number of epochs or patience for early stopping.\n",
    "\n",
    "4. Tune Learning Rate\n",
    "\n",
    "Try different learning rates (e.g., 0.0005, 0.0001) for the optimizer.\n",
    "\n",
    "5. Batch Normalization\n",
    "\n",
    "Add batch normalization layers after convolutions to stabilize and speed up training.\n",
    "\n",
    "6. Regularization\n",
    "\n",
    "Adjust dropout rate (e.g., 0.3 or 0.4) or add L2 regularization to the optimizer.\n",
    "\n",
    "7. Use Pretrained Models\n",
    "\n",
    "For small datasets, try transfer learning with a pretrained model (e.g., ResNet, VGG) using PyTorch’s torchvision.\n",
    "\n",
    "8. Check Data Quality\n",
    "\n",
    "Ensure your images and labels are correct and balanced across classes.\n",
    "\n",
    "9. Hyperparameter Tuning\n",
    "\n",
    "Experiment with batch size, optimizer type (SGD, RMSprop), and network architecture."
   ]
  },
  {
   "cell_type": "markdown",
   "id": "3f74e6c4",
   "metadata": {},
   "source": [
    "You can further add confusion matrix, class-wise accuracy, or visualize predictions as needed."
   ]
  },
  {
   "cell_type": "markdown",
   "id": "91d3f7e2",
   "metadata": {},
   "source": [
    "###################################################################################"
   ]
  },
  {
   "cell_type": "markdown",
   "id": "902b1e26",
   "metadata": {},
   "source": [
    "### Data Augmentation for Improved Generalization\n",
    "Let's use torchvision transforms to apply data augmentation to the training images. This can help the model generalize better and improve accuracy."
   ]
  },
  {
   "cell_type": "code",
   "execution_count": 124,
   "id": "2968aa06",
   "metadata": {},
   "outputs": [],
   "source": [
    "from torchvision import transforms\n",
    "from torch.utils.data import Dataset\n",
    "\n",
    "# Define augmentation transforms for training data\n",
    "train_transform = transforms.Compose([\n",
    "    transforms.ToPILImage(),\n",
    "    transforms.RandomHorizontalFlip(),\n",
    "    transforms.RandomRotation(15),\n",
    "    transforms.RandomCrop(32, padding=4),\n",
    "    transforms.ToTensor()\n",
    "])\n",
    "\n",
    "# No augmentation for test/validation data, just convert to tensor\n",
    "val_test_transform = transforms.Compose([\n",
    "    transforms.ToPILImage(),\n",
    "    transforms.ToTensor()\n",
    "])\n",
    "\n",
    "# Custom Dataset to apply transforms\n",
    "class AugmentedDataset(Dataset):\n",
    "    def __init__(self, images, labels, transform=None):\n",
    "        self.images = images\n",
    "        self.labels = labels\n",
    "        self.transform = transform\n",
    "    def __len__(self):\n",
    "        return len(self.images)\n",
    "    def __getitem__(self, idx):\n",
    "        image = self.images[idx][0]  # shape: (1, 32, 32)\n",
    "        image = image.squeeze(0)     # shape: (32, 32)\n",
    "        label = self.labels[idx]\n",
    "        if self.transform:\n",
    "            image = self.transform(image)\n",
    "        else:\n",
    "            image = torch.tensor(image, dtype=torch.float32).unsqueeze(0)\n",
    "        return image, label\n",
    "\n",
    "# Create datasets with augmentation for training\n",
    "aug_train_dataset = AugmentedDataset(torch_X_train, torch_y_train, transform=train_transform)\n",
    "aug_val_dataset = AugmentedDataset(torch_X_test, torch_y_test, transform=val_test_transform)\n",
    "\n",
    "aug_train_loader = DataLoader(aug_train_dataset, batch_size=64, shuffle=True)\n",
    "aug_val_loader = DataLoader(aug_val_dataset, batch_size=64, shuffle=False)"
   ]
  },
  {
   "cell_type": "markdown",
   "id": "efd8f1ca",
   "metadata": {},
   "source": [
    "Now, use `aug_train_loader` and `aug_val_loader` in your training and evaluation loops instead of the original loaders to benefit from data augmentation."
   ]
  },
  {
   "cell_type": "markdown",
   "id": "7e804cbe",
   "metadata": {},
   "source": [
    "Data augmentation has been added using torchvision transforms and a custom Dataset. Use aug_train_loader and aug_val_loader in your training and evaluation loops to benefit from random flips, rotations, and crops. This should help your model generalize better and further improve accuracy. Let me know if you want the training loop updated to use these new loaders!"
   ]
  },
  {
   "cell_type": "code",
   "execution_count": 126,
   "id": "890ec25c",
   "metadata": {},
   "outputs": [
    {
     "name": "stdout",
     "output_type": "stream",
     "text": [
      "Test Accuracy with Data Augmentation: 0.1008\n"
     ]
    }
   ],
   "source": [
    "# Evaluate the CNN on augmented validation/test data\n",
    "model.eval()\n",
    "correct = 0\n",
    "total = 0\n",
    "with torch.no_grad():\n",
    "    for images, labels in aug_val_loader:\n",
    "        outputs = model(images)\n",
    "        _, predicted = torch.max(outputs.data, 1)\n",
    "        total += labels.size(0)\n",
    "        correct += (predicted == labels).sum().item()\n",
    "accuracy = correct / total\n",
    "print(f\"Test Accuracy with Data Augmentation: {accuracy:.4f}\")"
   ]
  },
  {
   "cell_type": "markdown",
   "id": "476dce9e",
   "metadata": {},
   "source": [
    "###############################################################################"
   ]
  },
  {
   "cell_type": "markdown",
   "id": "419d4b13",
   "metadata": {},
   "source": [
    "After Using Data Augmentation Accuracy was droped heavely"
   ]
  },
  {
   "cell_type": "markdown",
   "id": "c2226a10",
   "metadata": {},
   "source": [
    "####################################################################################"
   ]
  },
  {
   "cell_type": "markdown",
   "id": "b5129695",
   "metadata": {},
   "source": [
    "Increase Model Complexity like add more hidden layers like add more convolution layers and neurons"
   ]
  },
  {
   "cell_type": "markdown",
   "id": "a32e115c",
   "metadata": {},
   "source": [
    "################################################################"
   ]
  },
  {
   "cell_type": "markdown",
   "id": "ac0818ca",
   "metadata": {},
   "source": [
    "### Increasing Model Complexity: Deeper CNN\n",
    "Let's increase the model complexity by adding more convolutional layers and filters to the CNN. This can help the model learn more complex features from the images."
   ]
  },
  {
   "cell_type": "code",
   "execution_count": 130,
   "id": "e47941b2",
   "metadata": {},
   "outputs": [],
   "source": [
    "# Define a deeper and wider CNN model\n",
    "class ComplexCNN(nn.Module):\n",
    "    def __init__(self):\n",
    "        super(ComplexCNN, self).__init__()\n",
    "        self.conv1 = nn.Conv2d(1, 32, kernel_size=3, padding=1)\n",
    "        self.bn1 = nn.BatchNorm2d(32)\n",
    "        self.conv2 = nn.Conv2d(32, 64, kernel_size=3, padding=1)\n",
    "        self.bn2 = nn.BatchNorm2d(64)\n",
    "        self.conv3 = nn.Conv2d(64, 128, kernel_size=3, padding=1)\n",
    "        self.bn3 = nn.BatchNorm2d(128)\n",
    "        self.pool = nn.MaxPool2d(2, 2)\n",
    "        self.dropout = nn.Dropout(0.3)\n",
    "        self.fc1 = nn.Linear(128 * 4 * 4, 256)\n",
    "        self.fc2 = nn.Linear(256, 64)\n",
    "        self.fc3 = nn.Linear(64, 10)\n",
    "        self.relu = nn.ReLU()\n",
    "    def forward(self, x):\n",
    "        x = self.relu(self.bn1(self.conv1(x)))\n",
    "        x = self.pool(x)\n",
    "        x = self.relu(self.bn2(self.conv2(x)))\n",
    "        x = self.pool(x)\n",
    "        x = self.relu(self.bn3(self.conv3(x)))\n",
    "        x = self.pool(x)\n",
    "        x = x.view(-1, 128 * 4 * 4)\n",
    "        x = self.dropout(self.relu(self.fc1(x)))\n",
    "        x = self.dropout(self.relu(self.fc2(x)))\n",
    "        x = self.fc3(x)\n",
    "        return x\n",
    "\n",
    "# Instantiate the new, more complex model\n",
    "model = ComplexCNN()\n",
    "criterion = nn.CrossEntropyLoss()\n",
    "optimizer = optim.Adam(model.parameters(), lr=0.001)"
   ]
  },
  {
   "cell_type": "markdown",
   "id": "1ce8385b",
   "metadata": {},
   "source": [
    "The notebook now includes a deeper and wider CNN model (ComplexCNN) with more convolutional layers and filters. To continue, retrain your model using this new architecture and your augmented data loaders for best results. This increased complexity should help your model learn more advanced features and potentially"
   ]
  },
  {
   "cell_type": "markdown",
   "id": "a28e4546",
   "metadata": {},
   "source": [
    "Now, retrain your model using the same training loop, but with the new ComplexCNN model. Use your augmented data loaders for best results."
   ]
  },
  {
   "cell_type": "markdown",
   "id": "524e3434",
   "metadata": {},
   "source": [
    "### Training the Complex CNN Model (Epoch-based Training)\n",
    "Train the deeper CNN model using the augmented training loader and monitor validation accuracy."
   ]
  },
  {
   "cell_type": "code",
   "execution_count": 131,
   "id": "0246171c",
   "metadata": {},
   "outputs": [
    {
     "name": "stdout",
     "output_type": "stream",
     "text": [
      "Epoch 1/50, Train Loss: 1.8227, Val Loss: 1.4637\n",
      "Epoch 2/50, Train Loss: 1.5256, Val Loss: 1.7097\n",
      "Epoch 2/50, Train Loss: 1.5256, Val Loss: 1.7097\n",
      "Epoch 3/50, Train Loss: 1.3833, Val Loss: 1.2336\n",
      "Epoch 3/50, Train Loss: 1.3833, Val Loss: 1.2336\n",
      "Epoch 4/50, Train Loss: 1.2973, Val Loss: 1.1794\n",
      "Epoch 4/50, Train Loss: 1.2973, Val Loss: 1.1794\n",
      "Epoch 5/50, Train Loss: 1.2345, Val Loss: 1.3788\n",
      "Epoch 5/50, Train Loss: 1.2345, Val Loss: 1.3788\n",
      "Epoch 6/50, Train Loss: 1.1845, Val Loss: 1.0087\n",
      "Epoch 6/50, Train Loss: 1.1845, Val Loss: 1.0087\n",
      "Epoch 7/50, Train Loss: 1.1388, Val Loss: 1.2623\n",
      "Epoch 7/50, Train Loss: 1.1388, Val Loss: 1.2623\n",
      "Epoch 8/50, Train Loss: 1.1083, Val Loss: 1.0010\n",
      "Epoch 8/50, Train Loss: 1.1083, Val Loss: 1.0010\n",
      "Epoch 9/50, Train Loss: 1.0848, Val Loss: 1.0678\n",
      "Epoch 9/50, Train Loss: 1.0848, Val Loss: 1.0678\n",
      "Epoch 10/50, Train Loss: 1.0647, Val Loss: 0.9225\n",
      "Epoch 10/50, Train Loss: 1.0647, Val Loss: 0.9225\n",
      "Epoch 11/50, Train Loss: 1.0353, Val Loss: 1.0251\n",
      "Epoch 11/50, Train Loss: 1.0353, Val Loss: 1.0251\n",
      "Epoch 12/50, Train Loss: 1.0230, Val Loss: 0.8813\n",
      "Epoch 12/50, Train Loss: 1.0230, Val Loss: 0.8813\n",
      "Epoch 13/50, Train Loss: 0.9957, Val Loss: 0.8562\n",
      "Epoch 13/50, Train Loss: 0.9957, Val Loss: 0.8562\n",
      "Epoch 14/50, Train Loss: 0.9880, Val Loss: 0.8069\n",
      "Epoch 14/50, Train Loss: 0.9880, Val Loss: 0.8069\n",
      "Epoch 15/50, Train Loss: 0.9734, Val Loss: 0.8464\n",
      "Epoch 15/50, Train Loss: 0.9734, Val Loss: 0.8464\n",
      "Epoch 16/50, Train Loss: 0.9494, Val Loss: 0.8388\n",
      "Epoch 16/50, Train Loss: 0.9494, Val Loss: 0.8388\n",
      "Epoch 17/50, Train Loss: 0.9454, Val Loss: 0.8038\n",
      "Epoch 17/50, Train Loss: 0.9454, Val Loss: 0.8038\n",
      "Epoch 18/50, Train Loss: 0.9282, Val Loss: 0.7650\n",
      "Epoch 18/50, Train Loss: 0.9282, Val Loss: 0.7650\n",
      "Epoch 19/50, Train Loss: 0.9101, Val Loss: 0.8206\n",
      "Epoch 19/50, Train Loss: 0.9101, Val Loss: 0.8206\n",
      "Epoch 20/50, Train Loss: 0.9053, Val Loss: 0.7628\n",
      "Epoch 20/50, Train Loss: 0.9053, Val Loss: 0.7628\n",
      "Epoch 21/50, Train Loss: 0.8951, Val Loss: 0.7379\n",
      "Epoch 21/50, Train Loss: 0.8951, Val Loss: 0.7379\n",
      "Epoch 22/50, Train Loss: 0.8844, Val Loss: 0.7562\n",
      "Epoch 22/50, Train Loss: 0.8844, Val Loss: 0.7562\n",
      "Epoch 23/50, Train Loss: 0.8793, Val Loss: 0.7471\n",
      "Epoch 23/50, Train Loss: 0.8793, Val Loss: 0.7471\n",
      "Epoch 24/50, Train Loss: 0.8695, Val Loss: 0.7922\n",
      "Epoch 24/50, Train Loss: 0.8695, Val Loss: 0.7922\n",
      "Epoch 25/50, Train Loss: 0.8584, Val Loss: 0.7478\n",
      "Epoch 25/50, Train Loss: 0.8584, Val Loss: 0.7478\n",
      "Epoch 26/50, Train Loss: 0.8583, Val Loss: 0.7582\n",
      "Early stopping at epoch 26\n",
      "Epoch 26/50, Train Loss: 0.8583, Val Loss: 0.7582\n",
      "Early stopping at epoch 26\n"
     ]
    }
   ],
   "source": [
    "# 5. Train the CNN with Early Stopping\n",
    "num_epochs = 50\n",
    "patience = 5  # Number of epochs to wait for improvement\n",
    "best_val_loss = float('inf')\n",
    "patience_counter = 0\n",
    "\n",
    "for epoch in range(num_epochs):\n",
    "    model.train()\n",
    "    running_loss = 0.0\n",
    "    for images, labels in aug_train_loader:\n",
    "        optimizer.zero_grad()\n",
    "        outputs = model(images)\n",
    "        loss = criterion(outputs, labels)\n",
    "        loss.backward()\n",
    "        optimizer.step()\n",
    "        running_loss += loss.item() * images.size(0)\n",
    "    epoch_loss = running_loss / len(aug_train_loader.dataset)\n",
    "\n",
    "    # Validation loss\n",
    "    model.eval()\n",
    "    val_loss = 0.0\n",
    "    with torch.no_grad():\n",
    "        for images, labels in aug_val_loader:\n",
    "            outputs = model(images)\n",
    "            loss = criterion(outputs, labels)\n",
    "            val_loss += loss.item() * images.size(0)\n",
    "    val_loss /= len(aug_val_loader.dataset)\n",
    "\n",
    "    print(f\"Epoch {epoch+1}/{num_epochs}, Train Loss: {epoch_loss:.4f}, Val Loss: {val_loss:.4f}\")\n",
    "\n",
    "    # Early stopping\n",
    "    if val_loss < best_val_loss:\n",
    "        best_val_loss = val_loss\n",
    "        patience_counter = 0\n",
    "    else:\n",
    "        patience_counter += 1\n",
    "        if patience_counter >= patience:\n",
    "            print(f\"Early stopping at epoch {epoch+1}\")\n",
    "            break"
   ]
  },
  {
   "cell_type": "markdown",
   "id": "43b34853",
   "metadata": {},
   "source": [
    "### Evaluate the Complex CNN Model\n",
    "After training the deeper CNN, use this cell to evaluate its accuracy on the validation/test set."
   ]
  },
  {
   "cell_type": "code",
   "execution_count": 132,
   "id": "0134d335",
   "metadata": {},
   "outputs": [
    {
     "name": "stdout",
     "output_type": "stream",
     "text": [
      "Test Accuracy (Complex CNN): 0.7380\n"
     ]
    }
   ],
   "source": [
    "# Evaluate the Complex CNN on the validation/test set\n",
    "model.eval()\n",
    "correct = 0\n",
    "total = 0\n",
    "with torch.no_grad():\n",
    "    for images, labels in aug_val_loader:\n",
    "        outputs = model(images)\n",
    "        _, predicted = torch.max(outputs.data, 1)\n",
    "        total += labels.size(0)\n",
    "        correct += (predicted == labels).sum().item()\n",
    "accuracy = correct / total\n",
    "print(f\"Test Accuracy (Complex CNN): {accuracy:.4f}\")"
   ]
  },
  {
   "cell_type": "markdown",
   "id": "ab652734",
   "metadata": {},
   "source": [
    "### Save the Trained Complex CNN Model\n",
    "You can save your trained PyTorch model using `torch.save`. This allows you to reload the model later for inference or further training."
   ]
  },
  {
   "cell_type": "code",
   "execution_count": 133,
   "id": "64d4a1ff",
   "metadata": {},
   "outputs": [
    {
     "name": "stdout",
     "output_type": "stream",
     "text": [
      "Model saved as 'complex_cnn_model.pth' and 'complex_cnn_model_state_dict.pth'\n"
     ]
    }
   ],
   "source": [
    "import torch\n",
    "\n",
    "# Save the entire model\n",
    "torch.save(model, 'complex_cnn_model.pth')\n",
    "\n",
    "# Or, save only the model parameters (recommended)\n",
    "torch.save(model.state_dict(), 'complex_cnn_model_state_dict.pth')\n",
    "\n",
    "print(\"Model saved as 'complex_cnn_model.pth' and 'complex_cnn_model_state_dict.pth'\")"
   ]
  },
  {
   "cell_type": "markdown",
   "id": "9322bc6d",
   "metadata": {},
   "source": [
    "- Use `torch.save(model, ...)` to save the whole model (architecture + weights).\n",
    "- Use `torch.save(model.state_dict(), ...)` to save only the weights (recommended for most use cases).\n",
    "- To load the model later, use `torch.load` and `model.load_state_dict`."
   ]
  },
  {
   "cell_type": "markdown",
   "id": "984a0525",
   "metadata": {},
   "source": [
    "### Classification Report and Confusion Matrix for Complex CNN\n",
    "Generate a detailed classification report and confusion matrix to evaluate the model's performance on each class."
   ]
  },
  {
   "cell_type": "code",
   "execution_count": 134,
   "id": "f3b8c63f",
   "metadata": {},
   "outputs": [
    {
     "name": "stdout",
     "output_type": "stream",
     "text": [
      "Classification Report:\n",
      "              precision    recall  f1-score   support\n",
      "\n",
      "           0       0.85      0.67      0.75      1009\n",
      "           1       0.90      0.88      0.89      1034\n",
      "           2       0.63      0.61      0.62       985\n",
      "           3       0.60      0.55      0.57      1008\n",
      "           4       0.54      0.84      0.66       986\n",
      "           5       0.79      0.55      0.65      1030\n",
      "           6       0.87      0.71      0.78      1021\n",
      "           7       0.69      0.85      0.76       977\n",
      "           8       0.89      0.82      0.85       955\n",
      "           9       0.77      0.92      0.84       995\n",
      "\n",
      "    accuracy                           0.74     10000\n",
      "   macro avg       0.75      0.74      0.74     10000\n",
      "weighted avg       0.76      0.74      0.74     10000\n",
      "\n"
     ]
    },
    {
     "data": {
      "image/png": "[encoded data removed]",
      "text/plain": [
       "<Figure size 800x600 with 2 Axes>"
      ]
     },
     "metadata": {},
     "output_type": "display_data"
    }
   ],
   "source": [
    "from sklearn.metrics import classification_report, confusion_matrix\n",
    "import numpy as np\n",
    "import matplotlib.pyplot as plt\n",
    "import seaborn as sns\n",
    "\n",
    "# Get all predictions and true labels\n",
    "all_preds = []\n",
    "all_labels = []\n",
    "model.eval()\n",
    "with torch.no_grad():\n",
    "    for images, labels in aug_val_loader:\n",
    "        outputs = model(images)\n",
    "        _, predicted = torch.max(outputs.data, 1)\n",
    "        all_preds.extend(predicted.cpu().numpy())\n",
    "        all_labels.extend(labels.cpu().numpy())\n",
    "\n",
    "# Classification report\n",
    "print(\"Classification Report:\")\n",
    "print(classification_report(all_labels, all_preds))\n",
    "\n",
    "# Confusion matrix\n",
    "cm = confusion_matrix(all_labels, all_preds)\n",
    "plt.figure(figsize=(8,6))\n",
    "sns.heatmap(cm, annot=True, fmt='d', cmap='Blues', xticklabels=range(10), yticklabels=range(10))\n",
    "plt.xlabel('Predicted')\n",
    "plt.ylabel('True')\n",
    "plt.title('Confusion Matrix')\n",
    "plt.show()"
   ]
  },
  {
   "cell_type": "markdown",
   "id": "e6d3304c",
   "metadata": {},
   "source": [
    "### ROC Curve, AUC Score, and Threshold Selection for Complex CNN\n",
    "Plot ROC curves and calculate AUC for each class. Also, show how to adjust the threshold for a specific class."
   ]
  },
  {
   "cell_type": "code",
   "execution_count": 135,
   "id": "9907af55",
   "metadata": {},
   "outputs": [
    {
     "data": {
      "image/png": "[encoded data removed]",
      "text/plain": [
       "<Figure size 1000x800 with 1 Axes>"
      ]
     },
     "metadata": {},
     "output_type": "display_data"
    },
    {
     "name": "stdout",
     "output_type": "stream",
     "text": [
      "Macro-average AUC: 0.9662\n",
      "Micro-average AUC: 0.9676\n",
      "Best threshold for class 0: 0.043 (Youden's J statistic)\n"
     ]
    }
   ],
   "source": [
    "from sklearn.metrics import roc_curve, auc, roc_auc_score\n",
    "from sklearn.preprocessing import label_binarize\n",
    "import matplotlib.pyplot as plt\n",
    "import numpy as np\n",
    "\n",
    "# Get model predictions (probabilities) and true labels\n",
    "all_probs = []\n",
    "all_labels = []\n",
    "model.eval()\n",
    "with torch.no_grad():\n",
    "    for images, labels in aug_val_loader:\n",
    "        outputs = model(images)\n",
    "        probs = torch.softmax(outputs, dim=1)\n",
    "        all_probs.append(probs.cpu().numpy())\n",
    "        all_labels.append(labels.cpu().numpy())\n",
    "all_probs = np.concatenate(all_probs, axis=0)\n",
    "all_labels = np.concatenate(all_labels, axis=0)\n",
    "\n",
    "# Binarize the labels for multiclass ROC\n",
    "n_classes = 10\n",
    "all_labels_bin = label_binarize(all_labels, classes=np.arange(n_classes))\n",
    "\n",
    "# Compute ROC curve and AUC for each class\n",
    "fpr = dict()\n",
    "tpr = dict()\n",
    "roc_auc = dict()\n",
    "for i in range(n_classes):\n",
    "    fpr[i], tpr[i], _ = roc_curve(all_labels_bin[:, i], all_probs[:, i])\n",
    "    roc_auc[i] = auc(fpr[i], tpr[i])\n",
    "\n",
    "# Plot ROC curve for each class\n",
    "plt.figure(figsize=(10, 8))\n",
    "for i in range(n_classes):\n",
    "    plt.plot(fpr[i], tpr[i], label=f'Class {i} (AUC = {roc_auc[i]:.2f})')\n",
    "plt.plot([0, 1], [0, 1], 'k--', lw=2)\n",
    "plt.xlabel('False Positive Rate')\n",
    "plt.ylabel('True Positive Rate')\n",
    "plt.title('ROC Curve for Each Class')\n",
    "plt.legend(loc='lower right')\n",
    "plt.show()\n",
    "\n",
    "# Calculate macro and micro average AUC\n",
    "roc_auc_macro = roc_auc_score(all_labels_bin, all_probs, average='macro', multi_class='ovr')\n",
    "roc_auc_micro = roc_auc_score(all_labels_bin, all_probs, average='micro', multi_class='ovr')\n",
    "print(f\"Macro-average AUC: {roc_auc_macro:.4f}\")\n",
    "print(f\"Micro-average AUC: {roc_auc_micro:.4f}\")\n",
    "\n",
    "# Example: Adjust threshold for class 0\n",
    "class_idx = 0\n",
    "fpr0, tpr0, thresholds0 = roc_curve(all_labels_bin[:, class_idx], all_probs[:, class_idx])\n",
    "# Find threshold closest to TPR - FPR = max (Youden's J statistic)\n",
    "j_scores = tpr0 - fpr0\n",
    "best_idx = np.argmax(j_scores)\n",
    "best_threshold = thresholds0[best_idx]\n",
    "print(f\"Best threshold for class 0: {best_threshold:.3f} (Youden's J statistic)\")"
   ]
  },
  {
   "cell_type": "markdown",
   "id": "ce021d14",
   "metadata": {},
   "source": [
    "- The ROC curve and AUC are plotted for each class.\n",
    "- Macro and micro average AUC scores are printed.\n",
    "- The best threshold for class 0 (using Youden's J statistic) is shown. You can adjust the threshold for other classes similarly."
   ]
  },
  {
   "cell_type": "markdown",
   "id": "818f73d5",
   "metadata": {},
   "source": [
    "J = True Positive Rate (TPR) - False Positive Rate (FPR)\n",
    "\n",
    "How is it taken?\n",
    "\n",
    "For each possible threshold, you calculate TPR and FPR.\n",
    "\n",
    "You compute J = TPR - FPR for each threshold.\n",
    "\n",
    "The threshold with the highest J value is considered optimal, as it maximizes the difference between true positive rate and false positive rate."
   ]
  },
  {
   "cell_type": "markdown",
   "id": "00e6ab26",
   "metadata": {},
   "source": [
    "########################################################################################"
   ]
  },
  {
   "cell_type": "markdown",
   "id": "e9fc4e19",
   "metadata": {},
   "source": [
    "Auc is 0.96 is great Because of Low False Positive Rate so its reduce false Alaram"
   ]
  },
  {
   "cell_type": "markdown",
   "id": "670423c9",
   "metadata": {},
   "source": [
    "####################################################################################"
   ]
  },
  {
   "attachments": {
    "image.png": {
     "image/png": "[encoded data removed]"
    }
   },
   "cell_type": "markdown",
   "id": "b5940c0f",
   "metadata": {},
   "source": [
    "![image.png](attachment:image.png)"
   ]
  },
  {
   "cell_type": "markdown",
   "id": "eff83ef0",
   "metadata": {},
   "source": [
    "Future Prediction Using - Load Entire Model ( Option 1 )"
   ]
  },
  {
   "cell_type": "markdown",
   "id": "48abb80b",
   "metadata": {},
   "source": [
    "## Load the Entire Saved Model for Prediction\n",
    "You can load the entire model (architecture + weights) using torch.load if you saved it with torch.save(model, ...)."
   ]
  },
  {
   "cell_type": "markdown",
   "id": "b07c78cb",
   "metadata": {},
   "source": [
    "Option 1: Load only the weights (recommended and safest)"
   ]
  },
  {
   "cell_type": "markdown",
   "id": "7cd0b76b",
   "metadata": {},
   "source": [
    "✅ Solution 1 (Safe Way — Only if You Trust the Model File)\n",
    "Use the weights_only=False flag explicitly, like this:"
   ]
  },
  {
   "cell_type": "markdown",
   "id": "61ec698b",
   "metadata": {},
   "source": [
    "This tells PyTorch to trust the file and load the full model (including custom classes).\n",
    "\n",
    "✅ Use this only if:\n",
    "\n",
    "You saved this model yourself.\n",
    "\n",
    "You trust the source 100%.\n",
    "\n"
   ]
  },
  {
   "cell_type": "code",
   "execution_count": 11,
   "id": "8616a499",
   "metadata": {},
   "outputs": [
    {
     "data": {
      "text/plain": [
       "ComplexCNN(\n",
       "  (conv1): Conv2d(1, 32, kernel_size=(3, 3), stride=(1, 1), padding=(1, 1))\n",
       "  (bn1): BatchNorm2d(32, eps=1e-05, momentum=0.1, affine=True, track_running_stats=True)\n",
       "  (conv2): Conv2d(32, 64, kernel_size=(3, 3), stride=(1, 1), padding=(1, 1))\n",
       "  (bn2): BatchNorm2d(64, eps=1e-05, momentum=0.1, affine=True, track_running_stats=True)\n",
       "  (conv3): Conv2d(64, 128, kernel_size=(3, 3), stride=(1, 1), padding=(1, 1))\n",
       "  (bn3): BatchNorm2d(128, eps=1e-05, momentum=0.1, affine=True, track_running_stats=True)\n",
       "  (pool): MaxPool2d(kernel_size=2, stride=2, padding=0, dilation=1, ceil_mode=False)\n",
       "  (dropout): Dropout(p=0.3, inplace=False)\n",
       "  (fc1): Linear(in_features=2048, out_features=256, bias=True)\n",
       "  (fc2): Linear(in_features=256, out_features=64, bias=True)\n",
       "  (fc3): Linear(in_features=64, out_features=10, bias=True)\n",
       "  (relu): ReLU()\n",
       ")"
      ]
     },
     "execution_count": 11,
     "metadata": {},
     "output_type": "execute_result"
    }
   ],
   "source": [
    "import torch\n",
    "\n",
    "# Load the entire model\n",
    "model = torch.load('complex_cnn_model.pth', weights_only=False)\n",
    "model.eval()"
   ]
  },
  {
   "attachments": {
    "image.png": {
     "image/png": "[encoded data removed]"
    }
   },
   "cell_type": "markdown",
   "id": "01dc24d2",
   "metadata": {},
   "source": [
    "![image.png](attachment:image.png)"
   ]
  },
  {
   "cell_type": "markdown",
   "id": "41f98569",
   "metadata": {},
   "source": [
    "Prediction"
   ]
  },
  {
   "cell_type": "markdown",
   "id": "6545e136",
   "metadata": {},
   "source": [
    "🧠 Step 1: Preprocess the Input\n",
    "\n",
    "Assuming your model takes grayscale images (1 channel) — typical for MNIST-style data."
   ]
  },
  {
   "cell_type": "code",
   "execution_count": 17,
   "id": "dfbcc009",
   "metadata": {},
   "outputs": [],
   "source": [
    "from PIL import Image\n",
    "import torchvision.transforms as transforms\n",
    "\n",
    "# Load image (example: 32x32 grayscale)\n",
    "img = Image.open(\"airplane/aeroplane_s_000004.png\").convert(\"L\")  # 'L' = grayscale\n",
    "\n",
    "# Resize, convert to tensor, normalize\n",
    "transform = transforms.Compose([\n",
    "    transforms.Resize((32, 32)),             # if needed\n",
    "    transforms.ToTensor(),                   # Convert [0,255] → [0,1]\n",
    "    transforms.Normalize((0.5,), (0.5,))      # Normalize to [-1, 1]\n",
    "])\n",
    "\n",
    "input_tensor = transform(img)  # Shape: [1,32,32]\n",
    "input_tensor = input_tensor.unsqueeze(0)  # Add batch dim → [1, 1, 32, 32]\n"
   ]
  },
  {
   "cell_type": "markdown",
   "id": "7ddc4f35",
   "metadata": {},
   "source": [
    "⚙️ Step 2: Prediction"
   ]
  },
  {
   "cell_type": "code",
   "execution_count": 18,
   "id": "7dc19cec",
   "metadata": {},
   "outputs": [
    {
     "name": "stdout",
     "output_type": "stream",
     "text": [
      "Predicted class: 0\n"
     ]
    }
   ],
   "source": [
    "with torch.no_grad():  # No gradient computation\n",
    "    output = model(input_tensor)  # Forward pass\n",
    "    _, predicted_class = torch.max(output, 1)  # Get class with highest score\n",
    "\n",
    "print(f\"Predicted class: {predicted_class.item()}\")\n"
   ]
  },
  {
   "cell_type": "markdown",
   "id": "a7bd8109",
   "metadata": {},
   "source": [
    "#######################################################################################"
   ]
  },
  {
   "cell_type": "markdown",
   "id": "ec5eb701",
   "metadata": {},
   "source": [
    "## Load Only Model Parameters (Recommended)\n",
    "Define the model architecture, then load the saved state_dict."
   ]
  },
  {
   "cell_type": "markdown",
   "id": "a10e1176",
   "metadata": {},
   "source": [
    "🔹 Step 1: Define the model architecture"
   ]
  },
  {
   "cell_type": "markdown",
   "id": "b9dc5dbb",
   "metadata": {},
   "source": [
    "You must define the same architecture as the one used during training."
   ]
  },
  {
   "cell_type": "code",
   "execution_count": 19,
   "id": "dcd181f9",
   "metadata": {},
   "outputs": [],
   "source": [
    "import torch\n",
    "import torch.nn as nn\n",
    "import torch.nn.functional as F\n",
    "\n",
    "class ComplexCNN(nn.Module):\n",
    "    def __init__(self):\n",
    "        super(ComplexCNN, self).__init__()\n",
    "        self.conv1 = nn.Conv2d(1, 32, kernel_size=3, padding=1)\n",
    "        self.bn1 = nn.BatchNorm2d(32)\n",
    "        self.conv2 = nn.Conv2d(32, 64, kernel_size=3, padding=1)\n",
    "        self.bn2 = nn.BatchNorm2d(64)\n",
    "        self.conv3 = nn.Conv2d(64, 128, kernel_size=3, padding=1)\n",
    "        self.bn3 = nn.BatchNorm2d(128)\n",
    "        self.pool = nn.MaxPool2d(2)\n",
    "        self.dropout = nn.Dropout(0.3)\n",
    "        self.fc1 = nn.Linear(128 * 4 * 4, 256)  # Assuming input is 28x28\n",
    "        self.fc2 = nn.Linear(256, 64)\n",
    "        self.fc3 = nn.Linear(64, 10)\n",
    "        self.relu = nn.ReLU()\n",
    "\n",
    "    def forward(self, x):\n",
    "        x = self.relu(self.bn1(self.conv1(x)))\n",
    "        x = self.pool(x)\n",
    "        x = self.relu(self.bn2(self.conv2(x)))\n",
    "        x = self.pool(x)\n",
    "        x = self.relu(self.bn3(self.conv3(x)))\n",
    "        x = self.pool(x)\n",
    "        x = x.view(x.size(0), -1)  # Flatten\n",
    "        x = self.dropout(self.relu(self.fc1(x)))\n",
    "        x = self.dropout(self.relu(self.fc2(x)))\n",
    "        x = self.fc3(x)\n",
    "        return x\n"
   ]
  },
  {
   "cell_type": "markdown",
   "id": "f9e87c6b",
   "metadata": {},
   "source": [
    "🔹 Step 2: Load the state_dict\n"
   ]
  },
  {
   "cell_type": "code",
   "execution_count": 20,
   "id": "4b2e247d",
   "metadata": {},
   "outputs": [
    {
     "data": {
      "text/plain": [
       "ComplexCNN(\n",
       "  (conv1): Conv2d(1, 32, kernel_size=(3, 3), stride=(1, 1), padding=(1, 1))\n",
       "  (bn1): BatchNorm2d(32, eps=1e-05, momentum=0.1, affine=True, track_running_stats=True)\n",
       "  (conv2): Conv2d(32, 64, kernel_size=(3, 3), stride=(1, 1), padding=(1, 1))\n",
       "  (bn2): BatchNorm2d(64, eps=1e-05, momentum=0.1, affine=True, track_running_stats=True)\n",
       "  (conv3): Conv2d(64, 128, kernel_size=(3, 3), stride=(1, 1), padding=(1, 1))\n",
       "  (bn3): BatchNorm2d(128, eps=1e-05, momentum=0.1, affine=True, track_running_stats=True)\n",
       "  (pool): MaxPool2d(kernel_size=2, stride=2, padding=0, dilation=1, ceil_mode=False)\n",
       "  (dropout): Dropout(p=0.3, inplace=False)\n",
       "  (fc1): Linear(in_features=2048, out_features=256, bias=True)\n",
       "  (fc2): Linear(in_features=256, out_features=64, bias=True)\n",
       "  (fc3): Linear(in_features=64, out_features=10, bias=True)\n",
       "  (relu): ReLU()\n",
       ")"
      ]
     },
     "execution_count": 20,
     "metadata": {},
     "output_type": "execute_result"
    }
   ],
   "source": [
    "model = ComplexCNN()\n",
    "model.load_state_dict(torch.load(\"complex_cnn_model_state_dict.pth\"))\n",
    "model.eval()"
   ]
  },
  {
   "cell_type": "markdown",
   "id": "50717718",
   "metadata": {},
   "source": [
    "🔹 Step 3: Prediction (same as before)"
   ]
  },
  {
   "cell_type": "code",
   "execution_count": 22,
   "id": "b1ada68d",
   "metadata": {},
   "outputs": [
    {
     "name": "stdout",
     "output_type": "stream",
     "text": [
      "Predicted class: 1\n"
     ]
    }
   ],
   "source": [
    "from PIL import Image\n",
    "import torchvision.transforms as transforms\n",
    "\n",
    "img = Image.open(\"automobile/ambulance_s_000101.png\").convert(\"L\")\n",
    "\n",
    "transform = transforms.Compose([\n",
    "    transforms.Resize((32, 32)),\n",
    "    transforms.ToTensor(),\n",
    "    transforms.Normalize((0.5,), (0.5,))\n",
    "])\n",
    "\n",
    "input_tensor = transform(img).unsqueeze(0)\n",
    "\n",
    "with torch.no_grad():\n",
    "    output = model(input_tensor)\n",
    "    _, predicted = torch.max(output, 1)\n",
    "\n",
    "print(f\"Predicted class: {predicted.item()}\")\n"
   ]
  },
  {
   "cell_type": "markdown",
   "id": "39b6614e",
   "metadata": {},
   "source": [
    "- Both methods will allow you to make predictions.\n",
    "- Loading only the model parameters (option 2) is recommended for most use cases."
   ]
  }
 ],
 "metadata": {
  "kernelspec": {
   "display_name": "imgenv",
   "language": "python",
   "name": "python3"
  },
  "language_info": {
   "codemirror_mode": {
    "name": "ipython",
    "version": 3
   },
   "file_extension": ".py",
   "mimetype": "text/x-python",
   "name": "python",
   "nbconvert_exporter": "python",
   "pygments_lexer": "ipython3",
   "version": "3.11.0"
  }
 },
 "nbformat": 4,
 "nbformat_minor": 5
}
